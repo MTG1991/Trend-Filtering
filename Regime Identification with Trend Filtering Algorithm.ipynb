{
 "cells": [
  {
   "cell_type": "markdown",
   "metadata": {},
   "source": [
    "## Introduction\n",
    "A regime analysis is significant in asset allocation and asset-liability management for\n",
    "long-term investors because of the contagion and related effects during crash periods: the\n",
    "correlation between risky assets and volatility will greatly increase during the crash\n",
    "periods, thus creating severe difficulty in risk management and protecting investor capital\n",
    "with traditional portfolio models.\n",
    "\n",
    "Many existing methods are based on econometric models which assume a fixed structural model. However,\n",
    "financial return or macroeconomic data tends to be noisy and affected by myriad of\n",
    "factors. The state-of-the-art approach discussed in Mulvey and Liu (2016), trend-filtering,\n",
    "is non-parametric, data-driven and model-free. The algorithm was first introduced by\n",
    "Kim et al. (2009) and generalised in Tibshirani (2014).\n",
    "\n",
    "In this part, we will implement the algorithm to obtain regimes of U.S. equity. First, we need the relevant packages and data."
   ]
  },
  {
   "cell_type": "code",
   "execution_count": 18,
   "metadata": {
    "collapsed": true
   },
   "outputs": [],
   "source": [
    "import numpy as np #for numerical array data\n",
    "import pandas as pd #for tabular data\n",
    "from scipy.optimize import minimize\n",
    "from scipy.optimize import linprog\n",
    "import matplotlib.pyplot as plt #for plotting purposes\n",
    "import matplotlib\n",
    "%matplotlib inline\n",
    "plt.rcParams['axes.labelsize'] = 14\n",
    "plt.rcParams['xtick.labelsize'] = 12\n",
    "plt.rcParams['ytick.labelsize'] = 12\n",
    "import cvxpy as cp"
   ]
  },
  {
   "cell_type": "code",
   "execution_count": 3,
   "metadata": {
    "collapsed": false
   },
   "outputs": [
    {
     "data": {
      "text/html": [
       "<div>\n",
       "<table border=\"1\" class=\"dataframe\">\n",
       "  <thead>\n",
       "    <tr style=\"text-align: right;\">\n",
       "      <th></th>\n",
       "      <th>DATE</th>\n",
       "      <th>SP500</th>\n",
       "      <th>SP500TR</th>\n",
       "    </tr>\n",
       "  </thead>\n",
       "  <tbody>\n",
       "    <tr>\n",
       "      <th>0</th>\n",
       "      <td>1/1/85</td>\n",
       "      <td>0.5585</td>\n",
       "      <td>84.7932</td>\n",
       "    </tr>\n",
       "    <tr>\n",
       "      <th>1</th>\n",
       "      <td>2/1/85</td>\n",
       "      <td>7.4747</td>\n",
       "      <td>91.1312</td>\n",
       "    </tr>\n",
       "    <tr>\n",
       "      <th>2</th>\n",
       "      <td>3/1/85</td>\n",
       "      <td>5.5791</td>\n",
       "      <td>96.2155</td>\n",
       "    </tr>\n",
       "    <tr>\n",
       "      <th>3</th>\n",
       "      <td>4/1/85</td>\n",
       "      <td>-1.1260</td>\n",
       "      <td>95.1321</td>\n",
       "    </tr>\n",
       "    <tr>\n",
       "      <th>4</th>\n",
       "      <td>5/1/85</td>\n",
       "      <td>5.3201</td>\n",
       "      <td>100.1932</td>\n",
       "    </tr>\n",
       "  </tbody>\n",
       "</table>\n",
       "</div>"
      ],
      "text/plain": [
       "     DATE   SP500   SP500TR\n",
       "0  1/1/85  0.5585   84.7932\n",
       "1  2/1/85  7.4747   91.1312\n",
       "2  3/1/85  5.5791   96.2155\n",
       "3  4/1/85 -1.1260   95.1321\n",
       "4  5/1/85  5.3201  100.1932"
      ]
     },
     "execution_count": 3,
     "metadata": {},
     "output_type": "execute_result"
    }
   ],
   "source": [
    "# Import Data\n",
    "SP500_data = pd.read_csv('datasets/SP500.csv')\n",
    "SP500_data.head()"
   ]
  },
  {
   "cell_type": "markdown",
   "metadata": {},
   "source": [
    "In the trend-filtering algorithm, we manage to find some ‘fitted’ time series that serves as the signal of the trend. This new time series can be obtained by solving the following optimizationproblem:\n",
    "\n",
    "\\begin{equation*} \n",
    "    \\hat{\\beta} = \\text{argmin}_{\\beta \\in \\mathbb{R}^n} ||x-\\beta||_2^2 + \\lambda||D\\beta||_1 .\n",
    "\\end{equation*}\n",
    "\n",
    "where\n",
    "\n",
    "\\begin{equation*} \n",
    "D =\n",
    "    \\begin{bmatrix}\n",
    "       1 & -1 & 0 & \\dots & 0 & 0  \\\\\n",
    "       0  & 1 &-1 & \\dots & 0 & 0 \\\\\n",
    "       \\vdots \\\\\n",
    "       0  & 0 & 0 & \\dots & -1 & 0\\\\\n",
    "       0  & 0 & 0 & \\dots & 1 & -1\n",
    "    \\end{bmatrix}\n",
    "\\in \\mathbb{R}^{(n-1)\\times n}.\n",
    "\\end{equation*}"
   ]
  },
  {
   "cell_type": "code",
   "execution_count": 10,
   "metadata": {
    "collapsed": false
   },
   "outputs": [],
   "source": [
    "ret = SP500_data.as_matrix(columns=['SP500']) # Percentage\n",
    "n = np.size(ret)\n",
    "x_ret = ret.reshape(n)\n",
    "\n",
    "Dfull = np.diag([1]*n) - np.diag([1]*(n-1),1)\n",
    "D = Dfull[0:(n-1),]"
   ]
  },
  {
   "cell_type": "code",
   "execution_count": 14,
   "metadata": {
    "collapsed": false
   },
   "outputs": [
    {
     "data": {
      "text/plain": [
       "6319.379923850933"
      ]
     },
     "execution_count": 14,
     "metadata": {},
     "output_type": "execute_result"
    }
   ],
   "source": [
    "# Scipy Implementation - satisfactory\n",
    "lamb = 16\n",
    "def trend_filtering(x):\n",
    "    return np.sum((x_ret-x)**2) + lamb * np.sum(np.abs(x[1:]-x[:-1]))\n",
    "\n",
    "res = minimize(trend_filtering, ret/2, method=\"SLSQP\",tol=1e-6,options={'maxiter':10000})\n",
    "res.fun"
   ]
  },
  {
   "cell_type": "code",
   "execution_count": 16,
   "metadata": {
    "collapsed": false
   },
   "outputs": [
    {
     "data": {
      "text/plain": [
       "6318.804147421546"
      ]
     },
     "execution_count": 16,
     "metadata": {},
     "output_type": "execute_result"
    }
   ],
   "source": [
    "# CVXPY Implementation\n",
    "beta = cp.Variable(n)\n",
    "lambd = cp.Parameter(nonneg=True)\n",
    "x_ret = ret.reshape(n)\n",
    "\n",
    "def tf_obj(x,beta,lambd):\n",
    "    return cp.norm(x-beta,2)**2 + lambd*cp.norm(cp.matmul(D, beta),1)\n",
    "\n",
    "problem = cp.Problem(cp.Minimize(tf_obj(x_ret, beta, lambd)))\n",
    "\n",
    "lambd.value = 16\n",
    "problem.solve()\n",
    "\n",
    "#beta.value"
   ]
  },
  {
   "cell_type": "code",
   "execution_count": 19,
   "metadata": {
    "collapsed": false
   },
   "outputs": [
    {
     "data": {
      "text/plain": [
       "array([ 1.96123279,  1.96123284,  1.96123267,  1.96122969,  1.96122948,\n",
       "        1.81815318,  1.81814671,  1.81814671,  1.81814629,  1.81814647,\n",
       "        1.81814648,  1.81814647,  1.81814663,  1.81814656,  1.8181465 ,\n",
       "        1.81814651,  1.81814658,  1.81814652,  1.81814646,  1.81814647,\n",
       "        1.81814658,  3.54667211,  3.54667293,  3.54667308,  3.54667317,\n",
       "        3.5466713 ,  2.88524831,  2.76525802,  2.76525784,  2.76525776,\n",
       "        2.76525755,  2.76525669, -2.19218787, -6.88901989, -6.8890192 ,\n",
       "        1.63521965,  1.63521972,  1.63521969,  1.63521953,  1.63521956,\n",
       "        1.6352196 ,  1.63521966,  1.63521962,  1.63521965,  1.63522001,\n",
       "        1.63522013,  1.6352202 ,  1.63522047,  1.63522074,  1.63522072,\n",
       "        1.63522088,  1.635221  ,  1.63522099,  1.6352209 ,  1.63522089,\n",
       "        1.63521866,  0.68449028,  0.68448957,  0.68448943,  0.68448918,\n",
       "        0.68448853,  0.68448856,  0.68448856,  0.6844885 ,  0.68448855,\n",
       "        0.12765087,  0.12764984,  0.12764915,  0.12764924,  0.12765074,\n",
       "        1.67104591,  1.67104603,  1.67104611,  1.6710461 ,  1.67104571,\n",
       "        1.67104506,  1.67104478,  1.3586697 ,  1.35866965,  1.35866938,\n",
       "        1.35866892,  1.35866882,  1.35866871,  1.3586688 ,  0.96577501,\n",
       "        0.96577477,  0.96577451,  0.96577445,  0.96577429,  0.96577417,\n",
       "        0.96577415,  0.965774  ,  0.96577398,  0.96577396,  0.96577395,\n",
       "        0.96577386,  0.96577376,  0.96577367,  0.96577355,  0.96577337,\n",
       "        0.96577334,  0.96577325,  0.96577317,  0.96577315,  0.96577299,\n",
       "        0.96577292,  0.96577279,  0.96577274,  0.96577268,  0.96577246,\n",
       "        0.96577243,  0.96577262,  0.96577277,  0.96577288,  0.96577345,\n",
       "        0.96577362,  0.96577365,  0.96577384,  0.96577396,  1.48239682,\n",
       "        1.98457562,  1.98457677,  1.98457705,  1.98457723,  1.98457735,\n",
       "        1.98457739,  1.98457741,  1.9845774 ,  1.98457744,  1.98457741,\n",
       "        1.98457746,  1.98457743,  1.9845774 ,  1.98457732,  1.98457728,\n",
       "        1.98457728,  1.98457729,  1.98457728,  1.98457732,  2.10965583,\n",
       "        2.3050083 ,  2.3050085 ,  2.30500867,  2.30500862,  2.30500873,\n",
       "        2.3050087 ,  2.30500871,  2.30500963,  2.30500976,  2.30500975,\n",
       "        2.30500967,  2.03868021,  2.0386802 ,  2.03868005,  2.03868012,\n",
       "        2.03868009,  2.03868007,  2.03868009,  2.03867985,  1.11327531,\n",
       "        1.11327003,  1.11326978,  0.23625587,  0.23625517,  2.90903337,\n",
       "        2.90903358,  2.90903356,  2.9090334 ,  2.90903273,  1.59745129,\n",
       "        1.59745117,  1.59745082,  1.5973493 ,  1.59734914,  1.31538373,\n",
       "        1.3153836 ,  1.31538355,  1.31538364,  1.31538356,  1.31538343,\n",
       "        0.95505937,  0.95505931,  0.95505935,  0.41163348,  0.41163328,\n",
       "        0.41163322,  0.41163304,  0.41163297, -1.40920587, -1.40920604,\n",
       "       -1.40920631, -1.40920626, -1.40920627, -1.40920662, -1.40920654,\n",
       "       -1.40920554, -1.40920562, -1.40920581, -1.40920593, -1.40920608,\n",
       "       -1.40920604, -0.86245938, -0.86245909, -0.86245922, -0.86245948,\n",
       "       -0.86245967, -0.86245979, -2.65409555, -2.65409575, -2.65409632,\n",
       "       -2.65409638, -2.65409626, -2.65409627,  0.93872723,  0.93872723,\n",
       "        0.93872697,  0.93872704,  0.93872737,  0.97435477,  1.50478864,\n",
       "        1.50478868,  1.50478859,  1.50478852,  1.50478843,  1.50478834,\n",
       "        1.50478833,  1.50478814,  1.504788  ,  1.50478571,  1.38948474,\n",
       "        0.93289459,  0.93289429,  0.9328942 ,  0.93289409,  0.93289392,\n",
       "        0.93289393,  0.93289396,  0.93289399,  0.93289399,  0.93289387,\n",
       "        0.93289351,  0.93289343,  0.93289329,  0.93289326,  0.93289333,\n",
       "        0.93289332,  0.93289334,  0.93289325,  0.93289324,  0.93289322,\n",
       "        0.93289329,  0.93289327,  0.93289327,  0.93289322,  0.93289318,\n",
       "        0.93289314,  0.93289308,  0.93289315,  0.93289325,  0.93289337,\n",
       "        0.93289342,  0.93289343,  0.93289335,  0.93289323,  0.93289308,\n",
       "        0.93289289,  0.93289284,  0.93289279,  0.9328925 ,  0.4173455 ,\n",
       "        0.41734512,  0.41734505,  0.41734492,  0.41734422, -1.18464556,\n",
       "       -1.18464582, -1.18464613, -1.18464615, -1.1846461 , -1.18464608,\n",
       "       -1.18464639, -2.60800614, -2.60800621, -2.60800637, -5.8147542 ,\n",
       "       -5.81475446, -5.81475404, -5.8147528 , -5.81475279, -5.81475268,\n",
       "        3.28904402,  3.28904412,  3.28904397,  3.28904358,  3.28904349,\n",
       "        3.28904262,  3.28904127,  2.07214405,  2.07214388,  1.93603923,\n",
       "        1.84616633,  1.84616625,  1.8461661 ,  1.5788927 ,  1.31869616,\n",
       "        1.3186962 ,  1.3187022 ,  1.31870227,  1.54772505,  1.54772507,\n",
       "        1.54772502,  1.54772502,  1.54772473,  1.54772428,  1.50227105,\n",
       "        1.50227046, -0.25733121, -0.25733216, -0.25733251, -0.25733267,\n",
       "       -0.25733263,  1.43312481,  1.43312476,  1.43312477,  1.4331248 ,\n",
       "        1.43312473,  1.43312447,  1.43312375,  1.43312352,  1.43312363,\n",
       "        1.43312364,  1.43312365,  1.43312363,  1.43312357,  1.43312363,\n",
       "        1.43312371,  1.43312382,  1.43312379,  1.43312377,  1.43312367,\n",
       "        1.43312354,  1.43312335,  1.4331233 ,  1.43312309,  1.43312309,\n",
       "        1.43312303,  1.43312276,  1.43312206,  1.04997817,  1.04997807,\n",
       "        1.04997757,  1.04997719,  1.04997688,  1.04997626,  1.04997332,\n",
       "        1.04997309,  1.04996935,  1.0499691 ,  1.04996856,  0.68128575,\n",
       "        0.68128505,  0.68128496,  0.68127579,  0.6812755 ,  0.68127519,\n",
       "        0.6812748 ,  0.6812747 ,  0.6812745 ,  0.68127459,  0.68127497,\n",
       "        0.6812749 ,  0.68127485,  0.68127488,  0.68127565,  1.13864463,\n",
       "        1.13864471,  1.13864482,  1.13864491,  1.13864504,  1.13864507,\n",
       "        1.13864514,  1.13864527,  1.13864565,  1.13864583,  1.13864596,\n",
       "        1.13864606,  1.13864606,  1.13864611,  1.13864616,  1.13864622,\n",
       "        1.13864631,  1.13864637,  1.13864648,  1.13864655,  1.1386466 ,\n",
       "        1.13864659])"
      ]
     },
     "execution_count": 19,
     "metadata": {},
     "output_type": "execute_result"
    }
   ],
   "source": [
    "beta.value"
   ]
  },
  {
   "cell_type": "markdown",
   "metadata": {},
   "source": [
    "## Regime Identification\n",
    "\n",
    "Once we obtain the \"smoothed\" betas, we will label the month \"normal\" for positive betas and \"crash\" for negative betas."
   ]
  },
  {
   "cell_type": "code",
   "execution_count": 9,
   "metadata": {
    "collapsed": true
   },
   "outputs": [],
   "source": [
    "# [[To do]] Plot the log SP500 along with the regime\n",
    "SP500 = SP500_data.as_matrix(columns=['SP500TR'])"
   ]
  },
  {
   "cell_type": "markdown",
   "metadata": {},
   "source": [
    "### Some changes need to be applied to the plot:\n",
    "1) Time period: 1985-2017 (see dataset)\n",
    "\n",
    "2) Since the span of SP500 is large, use log series of SP500 in the plot (black line)"
   ]
  },
  {
   "cell_type": "markdown",
   "metadata": {},
   "source": [
    "&nbsp; [<img src=\"regime_sample.jpg\">]"
   ]
  },
  {
   "cell_type": "code",
   "execution_count": null,
   "metadata": {
    "collapsed": true
   },
   "outputs": [],
   "source": [
    "# [[To do]] Redo this with smaller values of lambda, obtaining more regime switches\n",
    "lambd.value = 15 # Also try 14, 13, 12, 11 and 10"
   ]
  },
  {
   "cell_type": "code",
   "execution_count": null,
   "metadata": {
    "collapsed": true
   },
   "outputs": [],
   "source": [
    "# [[To do]] Maybe it is better to have a \"Regularization path\", i.e. number of regimes vs values of lambda. \n",
    "\n",
    "lambd_values = np.logspace(0, 4, 100)\n",
    "\n",
    "beta_values = []\n",
    "for v in lambd_values:\n",
    "    lambd.value = v\n",
    "    problem.solve()\n",
    "\n",
    "    beta_values.append(beta.value)\n"
   ]
  }
 ],
 "metadata": {
  "kernelspec": {
   "display_name": "Python 3",
   "language": "python",
   "name": "python3"
  },
  "language_info": {
   "codemirror_mode": {
    "name": "ipython",
    "version": 3
   },
   "file_extension": ".py",
   "mimetype": "text/x-python",
   "name": "python",
   "nbconvert_exporter": "python",
   "pygments_lexer": "ipython3",
   "version": "3.6.0"
  }
 },
 "nbformat": 4,
 "nbformat_minor": 2
}
