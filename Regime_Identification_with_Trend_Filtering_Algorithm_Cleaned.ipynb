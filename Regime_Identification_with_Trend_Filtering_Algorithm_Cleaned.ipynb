{
 "cells": [
  {
   "cell_type": "markdown",
   "metadata": {},
   "source": [
    "# Introduction\n",
    "A regime analysis is significant in asset allocation and asset-liability management for\n",
    "long-term investors because of the contagion and related effects during crash periods: the\n",
    "correlation between risky assets and volatility will greatly increase during the crash\n",
    "periods, thus creating severe difficulty in risk management and protecting investor capital\n",
    "with traditional portfolio models.\n",
    "\n",
    "Many existing methods are based on econometric models which assume a fixed structural model. However,\n",
    "financial return or macroeconomic data tends to be noisy and affected by myriad of\n",
    "factors. The state-of-the-art approach discussed in Mulvey and Liu (2016), trend-filtering,\n",
    "is non-parametric, data-driven and model-free. The algorithm was first introduced by\n",
    "Kim et al. (2009) and generalised in Tibshirani (2014).\n",
    "\n",
    "In this part, we will implement the algorithm to obtain regimes of U.S. equity. First, we need the relevant packages and data."
   ]
  },
  {
   "cell_type": "code",
   "execution_count": 1,
   "metadata": {},
   "outputs": [],
   "source": [
    "import numpy as np #for numerical array data\n",
    "import pandas as pd #for tabular data\n",
    "from scipy.optimize import minimize\n",
    "from scipy.optimize import linprog\n",
    "import matplotlib.pyplot as plt #for plotting purposes\n",
    "import matplotlib\n",
    "%matplotlib inline\n",
    "plt.rcParams['axes.labelsize'] = 14\n",
    "plt.rcParams['xtick.labelsize'] = 12\n",
    "plt.rcParams['ytick.labelsize'] = 12\n",
    "import cvxpy as cp"
   ]
  },
  {
   "cell_type": "code",
   "execution_count": 2,
   "metadata": {},
   "outputs": [
    {
     "data": {
      "text/html": [
       "<div>\n",
       "<style scoped>\n",
       "    .dataframe tbody tr th:only-of-type {\n",
       "        vertical-align: middle;\n",
       "    }\n",
       "\n",
       "    .dataframe tbody tr th {\n",
       "        vertical-align: top;\n",
       "    }\n",
       "\n",
       "    .dataframe thead th {\n",
       "        text-align: right;\n",
       "    }\n",
       "</style>\n",
       "<table border=\"1\" class=\"dataframe\">\n",
       "  <thead>\n",
       "    <tr style=\"text-align: right;\">\n",
       "      <th></th>\n",
       "      <th>DATE</th>\n",
       "      <th>SP500</th>\n",
       "      <th>SP500TR</th>\n",
       "    </tr>\n",
       "  </thead>\n",
       "  <tbody>\n",
       "    <tr>\n",
       "      <th>0</th>\n",
       "      <td>1985-01-01</td>\n",
       "      <td>0.5585</td>\n",
       "      <td>84.7932</td>\n",
       "    </tr>\n",
       "    <tr>\n",
       "      <th>1</th>\n",
       "      <td>1985-02-01</td>\n",
       "      <td>7.4747</td>\n",
       "      <td>91.1312</td>\n",
       "    </tr>\n",
       "    <tr>\n",
       "      <th>2</th>\n",
       "      <td>1985-03-01</td>\n",
       "      <td>5.5791</td>\n",
       "      <td>96.2155</td>\n",
       "    </tr>\n",
       "    <tr>\n",
       "      <th>3</th>\n",
       "      <td>1985-04-01</td>\n",
       "      <td>-1.1260</td>\n",
       "      <td>95.1321</td>\n",
       "    </tr>\n",
       "    <tr>\n",
       "      <th>4</th>\n",
       "      <td>1985-05-01</td>\n",
       "      <td>5.3201</td>\n",
       "      <td>100.1932</td>\n",
       "    </tr>\n",
       "  </tbody>\n",
       "</table>\n",
       "</div>"
      ],
      "text/plain": [
       "        DATE   SP500   SP500TR\n",
       "0 1985-01-01  0.5585   84.7932\n",
       "1 1985-02-01  7.4747   91.1312\n",
       "2 1985-03-01  5.5791   96.2155\n",
       "3 1985-04-01 -1.1260   95.1321\n",
       "4 1985-05-01  5.3201  100.1932"
      ]
     },
     "execution_count": 2,
     "metadata": {},
     "output_type": "execute_result"
    }
   ],
   "source": [
    "# Import Data\n",
    "SP500_data = pd.read_csv('datasets/SP500.csv')\n",
    "SP500_data['DATE'] = pd.to_datetime(SP500_data['DATE'])\n",
    "SP500_data.head()\n"
   ]
  },
  {
   "cell_type": "markdown",
   "metadata": {},
   "source": [
    "In the trend-filtering algorithm, we manage to find some ‘fitted’ time series that serves as the signal of the trend. This new time series can be obtained by solving the following optimization problem:\n",
    "\n",
    "\\begin{equation*} \n",
    "    \\hat{\\beta} = \\text{argmin}_{\\beta \\in \\mathbb{R}^n} ||x-\\beta||_2^2 + \\lambda||D\\beta||_1 .\n",
    "\\end{equation*}\n",
    "\n",
    "where\n",
    "\n",
    "\\begin{equation*} \n",
    "D =\n",
    "    \\begin{bmatrix}\n",
    "       1 & -1 & 0 & \\dots & 0 & 0  \\\\\n",
    "       0  & 1 &-1 & \\dots & 0 & 0 \\\\\n",
    "       \\vdots \\\\\n",
    "       0  & 0 & 0 & \\dots & -1 & 0\\\\\n",
    "       0  & 0 & 0 & \\dots & 1 & -1\n",
    "    \\end{bmatrix}\n",
    "\\in \\mathbb{R}^{(n-1)\\times n}.\n",
    "\\end{equation*}"
   ]
  },
  {
   "cell_type": "markdown",
   "metadata": {},
   "source": [
    "# Part 1: For a representative $\\lambda$, run the trend filtering algorithm and solve for the $\\beta$ vector\n",
    "\n",
    "### In this section we set $\\lambda$ = 16"
   ]
  },
  {
   "cell_type": "code",
   "execution_count": 3,
   "metadata": {},
   "outputs": [
    {
     "name": "stderr",
     "output_type": "stream",
     "text": [
      "/anaconda3/envs/TrendFiltering/lib/python3.6/site-packages/ipykernel/__main__.py:1: FutureWarning: Method .as_matrix will be removed in a future version. Use .values instead.\n",
      "  if __name__ == '__main__':\n"
     ]
    }
   ],
   "source": [
    "ret = SP500_data.as_matrix(columns=['SP500']) # Percentage\n",
    "n = np.size(ret)\n",
    "x_ret = ret.reshape(n)\n",
    "\n",
    "Dfull = np.diag([1]*n) - np.diag([1]*(n-1),1)\n",
    "D = Dfull[0:(n-1),]"
   ]
  },
  {
   "cell_type": "code",
   "execution_count": 4,
   "metadata": {},
   "outputs": [
    {
     "data": {
      "text/plain": [
       "6318.804147421546"
      ]
     },
     "execution_count": 4,
     "metadata": {},
     "output_type": "execute_result"
    }
   ],
   "source": [
    "# CVXPY Implementation\n",
    "beta = cp.Variable(n)\n",
    "lambd = cp.Parameter(nonneg=True)\n",
    "x_ret = ret.reshape(n)\n",
    "\n",
    "def tf_obj(x,beta,lambd):\n",
    "    return cp.norm(x-beta,2)**2 + lambd*cp.norm(cp.matmul(D, beta),1)\n",
    "\n",
    "problem = cp.Problem(cp.Minimize(tf_obj(x_ret, beta, lambd)))\n",
    "\n",
    "lambd.value = 16\n",
    "problem.solve()\n",
    "\n",
    "#beta.value"
   ]
  },
  {
   "cell_type": "markdown",
   "metadata": {},
   "source": [
    "# Part 2: With the \"smoothed\" $\\beta$, label the months \"nomal\" for positive $\\beta$, and \"crash\" for negative $\\beta$\n",
    "\n",
    "### I don't return the list of regimes in this section, as the final plotting function plotRegime calls parseBetaSeries, so I don't need to preprocess the $\\beta$ vector"
   ]
  },
  {
   "cell_type": "code",
   "execution_count": 5,
   "metadata": {},
   "outputs": [
    {
     "name": "stderr",
     "output_type": "stream",
     "text": [
      "/anaconda3/envs/TrendFiltering/lib/python3.6/site-packages/ipykernel/__main__.py:2: FutureWarning: Method .as_matrix will be removed in a future version. Use .values instead.\n",
      "  from ipykernel import kernelapp as app\n"
     ]
    }
   ],
   "source": [
    "# [[To do]] Plot the log SP500 along with the regime\n",
    "SP500 = SP500_data.as_matrix(columns=['SP500TR'])"
   ]
  },
  {
   "cell_type": "code",
   "execution_count": 6,
   "metadata": {},
   "outputs": [],
   "source": [
    "#Convert beta of a pd.Series object so I can use parseBetaSeries function\n",
    "betas = pd.Series(beta.value)"
   ]
  },
  {
   "cell_type": "code",
   "execution_count": 7,
   "metadata": {},
   "outputs": [],
   "source": [
    "def parseBetaSeries(betaValues):\n",
    "    '''parseNonZero takes a array of non-zero indecies, and max array index,\n",
    "    returns the proportions to be use in the array filtering\n",
    "    Inputs:\n",
    "        betaValues: pd.Series object\n",
    "    Outputs:\n",
    "        l: list object, that looks like [start_0, end_0, start_1, end_1...]'''\n",
    "    \n",
    "    #Step 1: create an array -2 and 0s where -2 corresponds to a negative beta value\n",
    "    betas = betaValues.apply(np.sign)\n",
    "    betas = betas - 1\n",
    "    nonZeroArray = betas.nonzero()\n",
    "    nonZeroArray = nonZeroArray[0]\n",
    "    \n",
    "    #Step 1.1: get the length of the original array\n",
    "    n = len(betas)\n",
    "    \n",
    "    #Step 2: compute the start and end point of the negative regimes\n",
    "    l = list()\n",
    "    \n",
    "    if (len(nonZeroArray) == 0): #Check if there are no regimes return a empty list\n",
    "        return l\n",
    "    else: #if there are regimes, process them\n",
    "        start = nonZeroArray[0]\n",
    "        previous = start\n",
    "        for i in range(1,len(nonZeroArray)):\n",
    "            if(previous + 1 != nonZeroArray[i]): #i.e you have hit the end of a range\n",
    "                l.append(1.0*start/n)\n",
    "                l.append(1.0*previous/n)\n",
    "                start = nonZeroArray[i]\n",
    "                previous = nonZeroArray[i]\n",
    "            else: #you haven't hit the end of a range\n",
    "                previous = nonZeroArray[i]\n",
    "        #add the last range\n",
    "        l.append(1.0*start/n)\n",
    "        l.append(1.0*previous/n)\n",
    "        return l\n",
    "            "
   ]
  },
  {
   "cell_type": "markdown",
   "metadata": {},
   "source": [
    "# Part 3: Plot SP500 times series, and mark the \"normal\" and \"crash\" regimes\n",
    "\n",
    "### The grey sections are the \"crash\" regimes"
   ]
  },
  {
   "cell_type": "code",
   "execution_count": 16,
   "metadata": {},
   "outputs": [],
   "source": [
    "def plotRegime(dataSeriesX, dataSeriesY, betaSeries, ymaxvar=8000, regimeColor='grey', alpha=.05,\n",
    "              title='Series over time'):\n",
    "    '''plotRegime takes the above arguments, makes the regime dependent plot\n",
    "    Inputs:\n",
    "        dataSeriesY: y values, should be either a pd.DataFrame column, or a 1xn matrix\n",
    "        betaSeries: pd.Series object, should be length n\n",
    "        ymaxvar: optional plotting argument, sets max of y label\n",
    "        regimeColor: optional plotting arument, regime color\n",
    "        alpha: optional plotting argument, sets transparency of regimeColor\n",
    "        title: optional plotting argument, sets title of plot\n",
    "    Outputs:\n",
    "        should plot stuff'''\n",
    "    #Step 1: Return list of negative bear market indecies\n",
    "    listOfRegimes = parseBetaSeries(betaSeries)\n",
    "    #Step 2: Create the plot\n",
    "    fig, ax = plt.subplots()\n",
    "    for i in range(int(len(listOfRegimes)/2)):\n",
    "        ax.axhspan(0, ymaxvar, xmin=listOfRegimes[2*i], xmax=listOfRegimes[2*i+1], facecolor='grey', alpha=0.5)\n",
    "        \n",
    "    plt.semilogy(dataSeriesX, dataSeriesY, color='black')\n",
    "    plt.ylim(1,ymaxvar)\n",
    "    plt.title(title)\n",
    "\n",
    "    #Step 3: Show the plot\n",
    "    plt.show()"
   ]
  },
  {
   "cell_type": "code",
   "execution_count": 17,
   "metadata": {},
   "outputs": [
    {
     "data": {
      "image/png": "[encoded data removed]",
      "text/plain": [
       "<Figure size 432x288 with 1 Axes>"
      ]
     },
     "metadata": {
      "needs_background": "light"
     },
     "output_type": "display_data"
    }
   ],
   "source": [
    "plotRegime(SP500_data['DATE'], SP500, betas, title='Series over time')"
   ]
  },
  {
   "cell_type": "markdown",
   "metadata": {},
   "source": [
    "# Part  4: The number of \"crashes\" is a function of $\\lambda$\n",
    "\n",
    "### Run the following code with different $\\lambda$ values, and notice how the number of \"craches\" changes as a function of $\\lambda$"
   ]
  },
  {
   "cell_type": "code",
   "execution_count": 10,
   "metadata": {},
   "outputs": [
    {
     "data": {
      "image/png": "[encoded data removed]",
      "text/plain": [
       "<Figure size 432x288 with 1 Axes>"
      ]
     },
     "metadata": {
      "needs_background": "light"
     },
     "output_type": "display_data"
    }
   ],
   "source": [
    "# Run code with whichever lambbda value you would like!\n",
    "lambd.value = 10 # Also try 14, 13, 12, 11 and 10\n",
    "problem.solve()\n",
    "betas = pd.Series(beta.value)\n",
    "plotRegime(SP500_data['DATE'], SP500, betas, title='Series over time')"
   ]
  },
  {
   "cell_type": "markdown",
   "metadata": {},
   "source": [
    "# Part 5: Plot the number of \"crashes\" as a function of lambda"
   ]
  },
  {
   "cell_type": "code",
   "execution_count": 11,
   "metadata": {},
   "outputs": [],
   "source": [
    "#Set up an solve the original optimization problem for a series of lambda values\n",
    "lambd_values = np.logspace(0, 2, 100)\n",
    "\n",
    "beta_values = []\n",
    "for v in lambd_values:\n",
    "    lambd.value = v\n",
    "    problem.solve()\n",
    "\n",
    "    beta_values.append(beta.value)\n"
   ]
  },
  {
   "cell_type": "code",
   "execution_count": 12,
   "metadata": {},
   "outputs": [],
   "source": [
    "#Compute the number of \"crashes\" as a function of lambda\n",
    "nregimes = np.zeros((len(lambd_values),1))\n",
    "for i in range(len(lambd_values)):\n",
    "    l = parseBetaSeries(pd.Series(beta_values[i]))\n",
    "    nregimes[i] = len(l)/2"
   ]
  },
  {
   "cell_type": "code",
   "execution_count": 13,
   "metadata": {},
   "outputs": [
    {
     "data": {
      "text/plain": [
       "Text(0, 0.5, 'Number of Regimes')"
      ]
     },
     "execution_count": 13,
     "metadata": {},
     "output_type": "execute_result"
    },
    {
     "data": {
      "image/png": "[encoded data removed]",
      "text/plain": [
       "<Figure size 432x288 with 1 Axes>"
      ]
     },
     "metadata": {
      "needs_background": "light"
     },
     "output_type": "display_data"
    }
   ],
   "source": [
    "#Plot the number of regimes verses lambda\n",
    "plt.plot(lambd_values, pd.DataFrame(nregimes))\n",
    "plt.title('Number of Regimes as a function of lambda')\n",
    "plt.xlabel('Lambda Value')\n",
    "plt.ylabel('Number of Regimes')"
   ]
  },
  {
   "cell_type": "code",
   "execution_count": null,
   "metadata": {},
   "outputs": [],
   "source": []
  }
 ],
 "metadata": {
  "kernelspec": {
   "display_name": "Python [default]",
   "language": "python",
   "name": "python3"
  },
  "language_info": {
   "codemirror_mode": {
    "name": "ipython",
    "version": 3
   },
   "file_extension": ".py",
   "mimetype": "text/x-python",
   "name": "python",
   "nbconvert_exporter": "python",
   "pygments_lexer": "ipython3",
   "version": "3.6.6"
  }
 },
 "nbformat": 4,
 "nbformat_minor": 2
}
